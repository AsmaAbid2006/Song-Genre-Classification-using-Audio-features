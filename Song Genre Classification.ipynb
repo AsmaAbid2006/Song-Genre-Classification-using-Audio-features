{
 "cells": [
  {
   "cell_type": "code",
   "execution_count": 1,
   "id": "9f2bc5ae-7381-4780-ae74-bb95cb4baaca",
   "metadata": {},
   "outputs": [],
   "source": [
    "import pandas as pd\n",
    "#Used for easy handling of tabular data, like the Spotify tracks dataset."
   ]
  },
  {
   "cell_type": "code",
   "execution_count": 3,
   "id": "ef235955-74fc-4f2b-8e26-34fee34b7f6e",
   "metadata": {},
   "outputs": [],
   "source": [
    "import seaborn as sns\n",
    "#to explore distribution and outliers"
   ]
  },
  {
   "cell_type": "code",
   "execution_count": 5,
   "id": "d5fa56f6-1f1f-4846-8475-ac6dc91bc34c",
   "metadata": {},
   "outputs": [],
   "source": [
    "import matplotlib.pyplot as plt\n",
    "#to display the visualizations or  charts."
   ]
  },
  {
   "cell_type": "code",
   "execution_count": 7,
   "id": "ed3ffba3-6909-4733-aec4-4a1f15b294c5",
   "metadata": {},
   "outputs": [],
   "source": [
    "from sklearn.preprocessing import StandardScaler\n",
    "#To ensure all features have the same scale."
   ]
  },
  {
   "cell_type": "code",
   "execution_count": 9,
   "id": "809608c6-edb9-4ba3-a6e2-db75567f5fe1",
   "metadata": {},
   "outputs": [],
   "source": [
    "from sklearn.preprocessing import LabelEncoder\n",
    "#To convert text into numeric codes."
   ]
  },
  {
   "cell_type": "code",
   "execution_count": 13,
   "id": "414f1c09-9d99-460f-bfcc-eb83191094e7",
   "metadata": {},
   "outputs": [],
   "source": [
    "from sklearn.model_selection import train_test_split\n",
    "#To evaluate how well the model generalizes to unseen data."
   ]
  },
  {
   "cell_type": "code",
   "execution_count": 15,
   "id": "6e1ed899-abb0-4628-ad68-088bb2489c9a",
   "metadata": {},
   "outputs": [],
   "source": [
    "from sklearn.ensemble import RandomForestClassifier\n",
    "#to predict the genre based on audio features."
   ]
  },
  {
   "cell_type": "code",
   "execution_count": 17,
   "id": "60585550-d332-4a2a-8c81-9dd802c8e165",
   "metadata": {},
   "outputs": [],
   "source": [
    "from sklearn.metrics import classification_report, confusion_matrix, accuracy_score\n",
    "#accuracy_score:To show overall correctness\n",
    "#confusion_matrix:To show true vs. predicted values\n",
    "#classification_report: includes precision, recall, and F1-score"
   ]
  },
  {
   "cell_type": "code",
   "execution_count": 33,
   "id": "6d71b37c-77fa-42ea-8137-9fba7197ec42",
   "metadata": {},
   "outputs": [],
   "source": [
    "#Loading Data\n",
    "df = pd.read_csv(\"SpotifyFeatures.csv\")"
   ]
  },
  {
   "cell_type": "code",
   "execution_count": 35,
   "id": "f3efd981-1477-4e2d-b6a4-d8a2e66a67e6",
   "metadata": {},
   "outputs": [],
   "source": [
    "#Selecting features\n",
    "features = ['danceability', 'energy', 'acousticness', 'instrumentalness',\n",
    "            'loudness', 'tempo']\n",
    "df = df.dropna(subset=features + ['genre'])\n",
    "X = df[features]\n",
    "y = df['genre']"
   ]
  },
  {
   "cell_type": "code",
   "execution_count": 37,
   "id": "bf9ccb37-933c-4d47-a772-edfed361db1c",
   "metadata": {},
   "outputs": [],
   "source": [
    "#Encoding target\n",
    "le = LabelEncoder()\n",
    "y = le.fit_transform(y)"
   ]
  },
  {
   "cell_type": "code",
   "execution_count": 39,
   "id": "037b0a3d-9003-49dd-adea-38658086f4bd",
   "metadata": {},
   "outputs": [],
   "source": [
    "#Scaling features\n",
    "scaler = StandardScaler()\n",
    "X_scaled = scaler.fit_transform(X)"
   ]
  },
  {
   "cell_type": "code",
   "execution_count": 41,
   "id": "3c32c9ac-c3fb-41b0-b824-0fb794bd5a77",
   "metadata": {},
   "outputs": [],
   "source": [
    "#Train-test split and model\n",
    "X_train, X_test, y_train, y_test = train_test_split(X_scaled, y, stratify=y, test_size=0.2, random_state=42)\n",
    "clf = RandomForestClassifier()\n",
    "clf.fit(X_train, y_train)\n",
    "y_pred = clf.predict(X_test)"
   ]
  },
  {
   "cell_type": "code",
   "execution_count": 42,
   "id": "bb2de64e-004d-48bd-a713-392310fe488f",
   "metadata": {},
   "outputs": [
    {
     "name": "stdout",
     "output_type": "stream",
     "text": [
      "Accuracy: 0.24354925341067785\n",
      "Confusion Matrix:\n",
      " [[   0    0    0    0    0    0    0    1    1    0    0    0    0    1\n",
      "     1    5   10    0    1    0    0    2    0    0    0    0    2]\n",
      " [   0   29   35   44    2  725    1    3   45   58   49   47   55  115\n",
      "    13    5    2   46  102   73   22   17  189   78   42    5   51]\n",
      " [   0   23  489   48   19   31  102    7  127   56  127   28    4   28\n",
      "    74   26   32   15   13    4   15   36   18  157   22  209   77]\n",
      " [   0   44   53  332   44   35    9   26   95   32   80  166   15   42\n",
      "   154   59   15   10   30    4   45   37  100  105  174   17   82]\n",
      " [   0    2   12   42  397    0   15   22   39    9   32   51   33    9\n",
      "    55   91   20   15   21   20   66   54    5    2   45   10   14]\n",
      " [   0  737   23   30    4    8    1    2   33   48   21   51   63  192\n",
      "    12    3    1   45  121   51   12    7  231   51   56    3   65]\n",
      " [   0   12   44   22    9    5  925    4    5    1    8   16    0    4\n",
      "    31   33  304    1    2    0    2    0    1   39    2  347   34]\n",
      " [   0    1    2    9   27    2    1 1743   10    3    0   10    4    5\n",
      "     6   70    4    2    9    1    5    9    1    0    8    0    4]\n",
      " [   0   34   86   96   24   27    0    7  358   70   16  138   31   42\n",
      "    31   65    2   72   39   53   74   71  181   60   63    0   93]\n",
      " [   0   53   46   19    4   69    0    2   88  103   92   33   87   98\n",
      "     9    9    0  388  244  109   35   68   72   29   56    2   25]\n",
      " [   0   31   88   92   16   18    3    0   43   67  841   25   14   23\n",
      "   238    7    1    9   10    4   56   42   21   64   50   46   66]\n",
      " [   0   41   25  172   37   53   14   13  144   46   28  152    4  362\n",
      "    85   94   36   69   36    4   20   10  192   35   95   19   74]\n",
      " [   0   56    6   13   23   67    0    8   34   67   15    9   95   27\n",
      "    15    6    0  192  124  779   84  145    8    8   67    0   11]\n",
      " [   0  118   28   59   14  191    3    7   49  110   38  424   34   24\n",
      "    39   24    6  118  126   57   22   19  207   21  123    4   44]\n",
      " [   0    5   39  151   62   15   67   19   37   10  255  110   10   31\n",
      "   392   86   51    6   30    2   47   43   15   34  203   94   74]\n",
      " [   0    2   30   66   81    3   76   86   65   12   11  107   14   20\n",
      "    53  365  164   17   27    5   22   46   12   25   40  138   74]\n",
      " [   0    0    7    4    4    0  291    4    0    0    0   17    0    1\n",
      "    15   52 1087    0    1    0    0    0    0    0    0  168    5]\n",
      " [   0   45   23   13   11   50    0    3   81  407   26   62  237  119\n",
      "     9   11    0   20  150  301   19   58  174   12   31    4   11]\n",
      " [   0   98   16   21   16  122    0    6   48  287   24   49  142  119\n",
      "    32   19    1  138   74  131   58   52    7   10  302    2   24]\n",
      " [   0   62   11    7   22   63    0   10   54  117    8    7  776   45\n",
      "    10    5    0  298  116   46   53   60   27    7   29    0   13]\n",
      " [   1   17   28   54   58   12    0    3   96   45   80   20  129   18\n",
      "    62   21    0   30   52   92  431  205   39  172   63    1   25]\n",
      " [   0    5   20   21   21    1    0   10   81   68   23   11  128    6\n",
      "    15   16    0   51   55   64  150  965    7   22   33    1   11]\n",
      " [   0  188   28  144    5  246    1    3  203   91   33  201   12  201\n",
      "    13   19    3  166   18   36   41   10   25   60   48    8   52]\n",
      " [   0   63  154   95   16   28    0    5   56   45  104   23   24   14\n",
      "    37   11    0   11   16   15  191   69   26  707   20    3   42]\n",
      " [   0   45   20  183   30   36    1   10   94   82   61   93   55  133\n",
      "   185   45   10   35  346   38   82   49   27   19   85    6   48]\n",
      " [   0    1  102   23    9    1  336    3    0    0   28   14    0    1\n",
      "    62   63   79    2    1    0    0    1    1    0    5 1167   30]\n",
      " [   0   36   61   92   19   49  107   10   87   21  105   94    4   33\n",
      "   138   72   35   14   20    5   21   12   28   66   50  164  476]]\n",
      "Classification Report:\n",
      "                   precision    recall  f1-score   support\n",
      "\n",
      "       A Capella       0.00      0.00      0.00        24\n",
      "     Alternative       0.02      0.02      0.02      1853\n",
      "           Anime       0.33      0.27      0.30      1787\n",
      "           Blues       0.18      0.18      0.18      1805\n",
      "Children's Music       0.41      0.37      0.39      1081\n",
      "Children’s Music       0.00      0.00      0.00      1871\n",
      "       Classical       0.47      0.50      0.49      1851\n",
      "          Comedy       0.86      0.90      0.88      1936\n",
      "         Country       0.18      0.21      0.19      1733\n",
      "           Dance       0.06      0.06      0.06      1740\n",
      "      Electronic       0.40      0.45      0.42      1875\n",
      "            Folk       0.08      0.08      0.08      1860\n",
      "         Hip-Hop       0.05      0.05      0.05      1859\n",
      "           Indie       0.01      0.01      0.01      1909\n",
      "            Jazz       0.22      0.21      0.21      1888\n",
      "           Movie       0.28      0.23      0.26      1561\n",
      "           Opera       0.58      0.66      0.62      1656\n",
      "             Pop       0.01      0.01      0.01      1877\n",
      "             R&B       0.04      0.04      0.04      1798\n",
      "             Rap       0.02      0.02      0.02      1846\n",
      "          Reggae       0.27      0.25      0.26      1754\n",
      "       Reggaeton       0.46      0.54      0.50      1785\n",
      "            Rock       0.02      0.01      0.01      1855\n",
      "             Ska       0.40      0.40      0.40      1775\n",
      "            Soul       0.05      0.05      0.05      1818\n",
      "      Soundtrack       0.48      0.60      0.54      1929\n",
      "           World       0.31      0.26      0.28      1819\n",
      "\n",
      "        accuracy                           0.24     46545\n",
      "       macro avg       0.23      0.24      0.23     46545\n",
      "    weighted avg       0.24      0.24      0.24     46545\n",
      "\n"
     ]
    }
   ],
   "source": [
    "#Evaluation\n",
    "print(\"Accuracy:\", accuracy_score(y_test, y_pred))\n",
    "print(\"Confusion Matrix:\\n\", confusion_matrix(y_test, y_pred))\n",
    "print(\"Classification Report:\\n\", classification_report(y_test, y_pred, target_names=le.classes_))"
   ]
  },
  {
   "cell_type": "code",
   "execution_count": null,
   "id": "5ad977f7-aeb3-47e6-9f15-0c2c603f4426",
   "metadata": {},
   "outputs": [],
   "source": [
    " #In this task, we built a classification model to predict song genres using audio features like tempo, energy, and danceability. \n",
    "#By preprocessing the data, visualizing feature relationships, and training models like Random Forest,\n",
    "#we demonstrated how machine learning can effectively classify music genres based on acoustic characteristics."
   ]
  }
 ],
 "metadata": {
  "kernelspec": {
   "display_name": "Python [conda env:AsmaAbidAI047]",
   "language": "python",
   "name": "conda-env-AsmaAbidAI047-py"
  },
  "language_info": {
   "codemirror_mode": {
    "name": "ipython",
    "version": 3
   },
   "file_extension": ".py",
   "mimetype": "text/x-python",
   "name": "python",
   "nbconvert_exporter": "python",
   "pygments_lexer": "ipython3",
   "version": "3.12.8"
  }
 },
 "nbformat": 4,
 "nbformat_minor": 5
}
